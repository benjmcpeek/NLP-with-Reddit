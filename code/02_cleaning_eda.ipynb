{
 "cells": [
  {
   "cell_type": "markdown",
   "id": "2c55d68d-7415-4948-aeff-205ac7ab3669",
   "metadata": {},
   "source": [
    "# Data Cleaning & EDA"
   ]
  },
  {
   "cell_type": "markdown",
   "id": "44efb8c7-f65e-448e-8bf2-ab1982f37074",
   "metadata": {},
   "source": [
    "## Summary\n",
    "- Dropping duplicates \n",
    "- Filling in missing values \n",
    "- Observing the distribution of the length of posts \n",
    "- Concatenating both data frames into one "
   ]
  },
  {
   "cell_type": "code",
   "execution_count": 1,
   "id": "4667e0e2-8422-4aaa-a680-2a715269ee69",
   "metadata": {
    "tags": []
   },
   "outputs": [],
   "source": [
    "import pandas as pd\n",
    "import numpy as np\n",
    "import seaborn as np\n",
    "import matplotlib.pyplot as plt\n",
    "from sklearn.model_selection import train_test_split\n",
    "from sklearn.feature_extraction.text import TfidfVectorizer"
   ]
  },
  {
   "cell_type": "code",
   "execution_count": 2,
   "id": "fcc9902c-2ae1-4511-9f0f-ef7c4ef70726",
   "metadata": {
    "tags": []
   },
   "outputs": [],
   "source": [
    "ghost = pd.read_csv('../data/Ghoststories.csv')"
   ]
  },
  {
   "cell_type": "code",
   "execution_count": 3,
   "id": "a678f1e3-d57b-4a75-8553-fda2aa59cf17",
   "metadata": {
    "tags": []
   },
   "outputs": [],
   "source": [
    "funny = pd.read_csv('../data/funnystories.csv')"
   ]
  },
  {
   "cell_type": "code",
   "execution_count": 4,
   "id": "c78e8718-05d4-46d3-bf97-7fcd6bd89520",
   "metadata": {
    "tags": []
   },
   "outputs": [
    {
     "data": {
      "text/plain": [
       "(10955, 4)"
      ]
     },
     "execution_count": 4,
     "metadata": {},
     "output_type": "execute_result"
    }
   ],
   "source": [
    "funny.shape"
   ]
  },
  {
   "cell_type": "code",
   "execution_count": 5,
   "id": "1ca41386-ba62-415f-b789-d25a9830bfd6",
   "metadata": {
    "tags": []
   },
   "outputs": [
    {
     "data": {
      "text/plain": [
       "(10985, 4)"
      ]
     },
     "execution_count": 5,
     "metadata": {},
     "output_type": "execute_result"
    }
   ],
   "source": [
    "ghost.shape"
   ]
  },
  {
   "cell_type": "markdown",
   "id": "cc78684d-ef89-4ee3-8fd6-b7b86c9ce91b",
   "metadata": {},
   "source": [
    "- Because of Reddit's new API a lot of our web scraping will pull duplicates. \n",
    "- We want to make sure all of our data points are unique."
   ]
  },
  {
   "cell_type": "code",
   "execution_count": 6,
   "id": "faac518b-a7fb-42ce-a93d-efe252adb0cb",
   "metadata": {
    "tags": []
   },
   "outputs": [],
   "source": [
    "funny.drop_duplicates(subset=['text'], inplace=True)"
   ]
  },
  {
   "cell_type": "code",
   "execution_count": 7,
   "id": "60df81b2-721b-4cc3-a452-48113f33d35b",
   "metadata": {
    "tags": []
   },
   "outputs": [
    {
     "data": {
      "text/plain": [
       "(939, 4)"
      ]
     },
     "execution_count": 7,
     "metadata": {},
     "output_type": "execute_result"
    }
   ],
   "source": [
    "funny.shape"
   ]
  },
  {
   "cell_type": "code",
   "execution_count": 8,
   "id": "c18a633b-e3dc-4f0f-acbd-c0759c7b79f1",
   "metadata": {
    "tags": []
   },
   "outputs": [],
   "source": [
    "ghost.drop_duplicates(subset=['text'], inplace=True)"
   ]
  },
  {
   "cell_type": "code",
   "execution_count": 9,
   "id": "f173cefd-ae70-4279-afdf-5e368930e1f4",
   "metadata": {
    "tags": []
   },
   "outputs": [
    {
     "data": {
      "text/plain": [
       "(1043, 4)"
      ]
     },
     "execution_count": 9,
     "metadata": {},
     "output_type": "execute_result"
    }
   ],
   "source": [
    "ghost.shape"
   ]
  },
  {
   "cell_type": "code",
   "execution_count": 10,
   "id": "39e9299b-ec7a-4acf-8458-790ad38d3b19",
   "metadata": {
    "tags": []
   },
   "outputs": [
    {
     "data": {
      "text/plain": [
       "title        0\n",
       "text         1\n",
       "subreddit    0\n",
       "name         0\n",
       "dtype: int64"
      ]
     },
     "execution_count": 10,
     "metadata": {},
     "output_type": "execute_result"
    }
   ],
   "source": [
    "ghost.isnull().sum()"
   ]
  },
  {
   "cell_type": "code",
   "execution_count": 11,
   "id": "a836bbdb-b67e-4163-98e8-bf4e50f1275c",
   "metadata": {
    "tags": []
   },
   "outputs": [
    {
     "data": {
      "text/plain": [
       "title        0\n",
       "text         1\n",
       "subreddit    0\n",
       "name         0\n",
       "dtype: int64"
      ]
     },
     "execution_count": 11,
     "metadata": {},
     "output_type": "execute_result"
    }
   ],
   "source": [
    "funny.isnull().sum()"
   ]
  },
  {
   "cell_type": "markdown",
   "id": "399a2047-aae9-4986-a736-d54562d31559",
   "metadata": {},
   "source": [
    "- We can see two missing posts from our data.\n",
    "- We will fill these in with an empty string because later we will combine our title column with our text column."
   ]
  },
  {
   "cell_type": "code",
   "execution_count": 12,
   "id": "611fc9f6-88e1-45e8-9605-ec15d0f1ab89",
   "metadata": {
    "tags": []
   },
   "outputs": [],
   "source": [
    "ghost['text'] = ghost['text'].fillna('')\n",
    "\n",
    "funny['text'] = funny['text'].fillna('')"
   ]
  },
  {
   "cell_type": "code",
   "execution_count": 13,
   "id": "44b3abeb-1293-446f-848b-49c44b61be06",
   "metadata": {
    "tags": []
   },
   "outputs": [
    {
     "data": {
      "text/plain": [
       "title        0\n",
       "text         0\n",
       "subreddit    0\n",
       "name         0\n",
       "dtype: int64"
      ]
     },
     "execution_count": 13,
     "metadata": {},
     "output_type": "execute_result"
    }
   ],
   "source": [
    "ghost.isnull().sum()"
   ]
  },
  {
   "cell_type": "code",
   "execution_count": 14,
   "id": "2e7aa591-efe3-45d9-ac4d-0af8d342a78e",
   "metadata": {
    "tags": []
   },
   "outputs": [
    {
     "data": {
      "text/plain": [
       "title        0\n",
       "text         0\n",
       "subreddit    0\n",
       "name         0\n",
       "dtype: int64"
      ]
     },
     "execution_count": 14,
     "metadata": {},
     "output_type": "execute_result"
    }
   ],
   "source": [
    "funny.isnull().sum()"
   ]
  },
  {
   "cell_type": "markdown",
   "id": "ab990131-111a-412a-8149-f6e965cfa255",
   "metadata": {},
   "source": [
    "## Observing distribution of word and length count "
   ]
  },
  {
   "cell_type": "code",
   "execution_count": 15,
   "id": "60d52dbc-8018-4bf2-8da3-9302fc02e905",
   "metadata": {
    "tags": []
   },
   "outputs": [],
   "source": [
    "funny['text_length'] = [len(i) for i in funny['text']]"
   ]
  },
  {
   "cell_type": "code",
   "execution_count": 16,
   "id": "b1ee06cf-1b7e-4017-9f7a-e9e4002786d1",
   "metadata": {
    "tags": []
   },
   "outputs": [],
   "source": [
    "ghost['text_length'] = [len(i) for i in ghost['text']]"
   ]
  },
  {
   "cell_type": "code",
   "execution_count": 17,
   "id": "ca0193f9-4bad-4347-8a3b-f4809dd5b74d",
   "metadata": {
    "tags": []
   },
   "outputs": [],
   "source": [
    "ghost['text_word_length'] = [len(i.split(' ')) for i in ghost['text']]\n",
    "funny['text_word_length'] = [len(i.split(' ')) for i in funny['text']]"
   ]
  },
  {
   "cell_type": "code",
   "execution_count": 18,
   "id": "1cc4d2bc-cd0b-46c0-9803-a7bbabfc5ac5",
   "metadata": {
    "tags": []
   },
   "outputs": [
    {
     "data": {
      "text/html": [
       "<div>\n",
       "<style scoped>\n",
       "    .dataframe tbody tr th:only-of-type {\n",
       "        vertical-align: middle;\n",
       "    }\n",
       "\n",
       "    .dataframe tbody tr th {\n",
       "        vertical-align: top;\n",
       "    }\n",
       "\n",
       "    .dataframe thead th {\n",
       "        text-align: right;\n",
       "    }\n",
       "</style>\n",
       "<table border=\"1\" class=\"dataframe\">\n",
       "  <thead>\n",
       "    <tr style=\"text-align: right;\">\n",
       "      <th></th>\n",
       "      <th>title</th>\n",
       "      <th>text</th>\n",
       "      <th>subreddit</th>\n",
       "      <th>name</th>\n",
       "      <th>text_length</th>\n",
       "      <th>text_word_length</th>\n",
       "    </tr>\n",
       "  </thead>\n",
       "  <tbody>\n",
       "    <tr>\n",
       "      <th>0</th>\n",
       "      <td>Have you ever walked into something invisible?</td>\n",
       "      <td>Ok I know how this sounds, but this is a serio...</td>\n",
       "      <td>Ghoststories</td>\n",
       "      <td>t3_15h9d7e</td>\n",
       "      <td>1122</td>\n",
       "      <td>216</td>\n",
       "    </tr>\n",
       "    <tr>\n",
       "      <th>1</th>\n",
       "      <td>Weird church ghost story</td>\n",
       "      <td>This happened when I was 17. My youth group wa...</td>\n",
       "      <td>Ghoststories</td>\n",
       "      <td>t3_15grqd2</td>\n",
       "      <td>1989</td>\n",
       "      <td>392</td>\n",
       "    </tr>\n",
       "    <tr>\n",
       "      <th>2</th>\n",
       "      <td>Random walking noise in my house</td>\n",
       "      <td>I don’t know what it was but I went to the bat...</td>\n",
       "      <td>Ghoststories</td>\n",
       "      <td>t3_15gyzsf</td>\n",
       "      <td>594</td>\n",
       "      <td>114</td>\n",
       "    </tr>\n",
       "    <tr>\n",
       "      <th>3</th>\n",
       "      <td>I grew up in a haunted house</td>\n",
       "      <td>Hi there, I grew up in what would be considere...</td>\n",
       "      <td>Ghoststories</td>\n",
       "      <td>t3_15gqfk0</td>\n",
       "      <td>1578</td>\n",
       "      <td>288</td>\n",
       "    </tr>\n",
       "    <tr>\n",
       "      <th>4</th>\n",
       "      <td>White light coming out of the wall</td>\n",
       "      <td>A couple days ago, I woke up in the middle of ...</td>\n",
       "      <td>Ghoststories</td>\n",
       "      <td>t3_15grqz4</td>\n",
       "      <td>815</td>\n",
       "      <td>168</td>\n",
       "    </tr>\n",
       "  </tbody>\n",
       "</table>\n",
       "</div>"
      ],
      "text/plain": [
       "                                            title  \\\n",
       "0  Have you ever walked into something invisible?   \n",
       "1                        Weird church ghost story   \n",
       "2                Random walking noise in my house   \n",
       "3                    I grew up in a haunted house   \n",
       "4              White light coming out of the wall   \n",
       "\n",
       "                                                text     subreddit  \\\n",
       "0  Ok I know how this sounds, but this is a serio...  Ghoststories   \n",
       "1  This happened when I was 17. My youth group wa...  Ghoststories   \n",
       "2  I don’t know what it was but I went to the bat...  Ghoststories   \n",
       "3  Hi there, I grew up in what would be considere...  Ghoststories   \n",
       "4  A couple days ago, I woke up in the middle of ...  Ghoststories   \n",
       "\n",
       "         name  text_length  text_word_length  \n",
       "0  t3_15h9d7e         1122               216  \n",
       "1  t3_15grqd2         1989               392  \n",
       "2  t3_15gyzsf          594               114  \n",
       "3  t3_15gqfk0         1578               288  \n",
       "4  t3_15grqz4          815               168  "
      ]
     },
     "execution_count": 18,
     "metadata": {},
     "output_type": "execute_result"
    }
   ],
   "source": [
    "ghost.head()"
   ]
  },
  {
   "cell_type": "code",
   "execution_count": 19,
   "id": "044b1b8d-adba-4f66-8675-17d0fed09121",
   "metadata": {
    "tags": []
   },
   "outputs": [
    {
     "data": {
      "text/html": [
       "<div>\n",
       "<style scoped>\n",
       "    .dataframe tbody tr th:only-of-type {\n",
       "        vertical-align: middle;\n",
       "    }\n",
       "\n",
       "    .dataframe tbody tr th {\n",
       "        vertical-align: top;\n",
       "    }\n",
       "\n",
       "    .dataframe thead th {\n",
       "        text-align: right;\n",
       "    }\n",
       "</style>\n",
       "<table border=\"1\" class=\"dataframe\">\n",
       "  <thead>\n",
       "    <tr style=\"text-align: right;\">\n",
       "      <th></th>\n",
       "      <th>title</th>\n",
       "      <th>text</th>\n",
       "      <th>subreddit</th>\n",
       "      <th>name</th>\n",
       "      <th>text_length</th>\n",
       "      <th>text_word_length</th>\n",
       "    </tr>\n",
       "  </thead>\n",
       "  <tbody>\n",
       "    <tr>\n",
       "      <th>0</th>\n",
       "      <td>My Mother's Russian Neighbour</td>\n",
       "      <td>So this story isn't mine but my mother's from ...</td>\n",
       "      <td>funnystories</td>\n",
       "      <td>t3_15ga20a</td>\n",
       "      <td>647</td>\n",
       "      <td>117</td>\n",
       "    </tr>\n",
       "    <tr>\n",
       "      <th>1</th>\n",
       "      <td>Im a weird virgin...</td>\n",
       "      <td>Ok so I (17f) am still a virgin. I never had a...</td>\n",
       "      <td>funnystories</td>\n",
       "      <td>t3_15fsclg</td>\n",
       "      <td>935</td>\n",
       "      <td>195</td>\n",
       "    </tr>\n",
       "    <tr>\n",
       "      <th>2</th>\n",
       "      <td>Worst first day ever</td>\n",
       "      <td></td>\n",
       "      <td>funnystories</td>\n",
       "      <td>t3_15f1le0</td>\n",
       "      <td>0</td>\n",
       "      <td>1</td>\n",
       "    </tr>\n",
       "    <tr>\n",
       "      <th>3</th>\n",
       "      <td>FUNNY STORY</td>\n",
       "      <td>I WENT TO A FANCY RESTAURANT AFTER CHURCH WITH...</td>\n",
       "      <td>funnystories</td>\n",
       "      <td>t3_15er04c</td>\n",
       "      <td>193</td>\n",
       "      <td>37</td>\n",
       "    </tr>\n",
       "    <tr>\n",
       "      <th>4</th>\n",
       "      <td>Arcade poo</td>\n",
       "      <td>As crazy as this sounds, this is a real story!...</td>\n",
       "      <td>funnystories</td>\n",
       "      <td>t3_15c4bg1</td>\n",
       "      <td>1600</td>\n",
       "      <td>334</td>\n",
       "    </tr>\n",
       "  </tbody>\n",
       "</table>\n",
       "</div>"
      ],
      "text/plain": [
       "                           title  \\\n",
       "0  My Mother's Russian Neighbour   \n",
       "1           Im a weird virgin...   \n",
       "2           Worst first day ever   \n",
       "3                    FUNNY STORY   \n",
       "4                     Arcade poo   \n",
       "\n",
       "                                                text     subreddit  \\\n",
       "0  So this story isn't mine but my mother's from ...  funnystories   \n",
       "1  Ok so I (17f) am still a virgin. I never had a...  funnystories   \n",
       "2                                                     funnystories   \n",
       "3  I WENT TO A FANCY RESTAURANT AFTER CHURCH WITH...  funnystories   \n",
       "4  As crazy as this sounds, this is a real story!...  funnystories   \n",
       "\n",
       "         name  text_length  text_word_length  \n",
       "0  t3_15ga20a          647               117  \n",
       "1  t3_15fsclg          935               195  \n",
       "2  t3_15f1le0            0                 1  \n",
       "3  t3_15er04c          193                37  \n",
       "4  t3_15c4bg1         1600               334  "
      ]
     },
     "execution_count": 19,
     "metadata": {},
     "output_type": "execute_result"
    }
   ],
   "source": [
    "funny.head()"
   ]
  },
  {
   "cell_type": "code",
   "execution_count": 20,
   "id": "b80f4b34-4979-427e-a0e3-14ea47a0e09e",
   "metadata": {
    "tags": []
   },
   "outputs": [
    {
     "data": {
      "image/png": "[encoded data removed]",
      "text/plain": [
       "<Figure size 1400x900 with 2 Axes>"
      ]
     },
     "metadata": {},
     "output_type": "display_data"
    }
   ],
   "source": [
    "fig, (ax0, ax1) = plt.subplots(nrows = 1, ncols = 2, figsize = (14,9))\n",
    "fig.suptitle('Distribution of Number of Words per Status', fontsize=16)\n",
    "xmax = 2000\n",
    "ymax = 500\n",
    "ax0.set_xlim(0, xmax)\n",
    "ax0.set_ylim(0, ymax)\n",
    "ax1.set_xlim(0, xmax)\n",
    "ax1.set_ylim(0, ymax)\n",
    "\n",
    "ax0.hist(funny['text_word_length'][funny['text_word_length'] < 2000])\n",
    "ax0.set_xlabel('Number of Words in FunnyStories DF', fontsize=10)\n",
    "\n",
    "ax1.hist(ghost['text_word_length'][ghost['text_word_length'] < 2000])\n",
    "ax1.set_xlabel('Number of Words in Ghoststories DF', fontsize=10);\n"
   ]
  },
  {
   "cell_type": "markdown",
   "id": "116a6b6a-7dad-4345-8170-dfe7a434ed61",
   "metadata": {},
   "source": [
    "- We can see the Ghoststories subreddit has a higher proportion of longer stories. Considering I have a slightly higher amount of Ghoststories in my data, knowing that this subreddit also contains higher word counts tells me I will want to filter out a larger amount of common words between the two. "
   ]
  },
  {
   "cell_type": "markdown",
   "id": "5c56fe0c-0dd7-4b51-b347-a1f3e1f6b7c7",
   "metadata": {},
   "source": [
    "## Combining our title and text columns will fill in any missing values for text. "
   ]
  },
  {
   "cell_type": "code",
   "execution_count": 21,
   "id": "f98ff31f-fe8a-4935-919b-05d4f7d7c93f",
   "metadata": {
    "tags": []
   },
   "outputs": [],
   "source": [
    "funny['title_text'] = funny['title'] + funny['text']"
   ]
  },
  {
   "cell_type": "code",
   "execution_count": 22,
   "id": "f6098015-3042-4fae-b1e1-c7f7fd596825",
   "metadata": {
    "tags": []
   },
   "outputs": [],
   "source": [
    "ghost['title_text'] = ghost['title'] + ghost['text']"
   ]
  },
  {
   "cell_type": "markdown",
   "id": "a7c6a07e-8fe7-4996-9f70-bee87295033b",
   "metadata": {},
   "source": [
    "- Our summary statistics confirm to us that Ghoststories are longer and on average have roughly 130 more words than in the funny stories subreddit. "
   ]
  },
  {
   "cell_type": "code",
   "execution_count": 23,
   "id": "5b5b36e3-a7d2-407f-aaa2-b7af725353cf",
   "metadata": {
    "tags": []
   },
   "outputs": [
    {
     "data": {
      "text/html": [
       "<div>\n",
       "<style scoped>\n",
       "    .dataframe tbody tr th:only-of-type {\n",
       "        vertical-align: middle;\n",
       "    }\n",
       "\n",
       "    .dataframe tbody tr th {\n",
       "        vertical-align: top;\n",
       "    }\n",
       "\n",
       "    .dataframe thead th {\n",
       "        text-align: right;\n",
       "    }\n",
       "</style>\n",
       "<table border=\"1\" class=\"dataframe\">\n",
       "  <thead>\n",
       "    <tr style=\"text-align: right;\">\n",
       "      <th></th>\n",
       "      <th>text_length</th>\n",
       "      <th>text_word_length</th>\n",
       "    </tr>\n",
       "  </thead>\n",
       "  <tbody>\n",
       "    <tr>\n",
       "      <th>count</th>\n",
       "      <td>1043.000000</td>\n",
       "      <td>1043.000000</td>\n",
       "    </tr>\n",
       "    <tr>\n",
       "      <th>mean</th>\n",
       "      <td>2015.803452</td>\n",
       "      <td>386.348035</td>\n",
       "    </tr>\n",
       "    <tr>\n",
       "      <th>std</th>\n",
       "      <td>2150.286960</td>\n",
       "      <td>400.595960</td>\n",
       "    </tr>\n",
       "    <tr>\n",
       "      <th>min</th>\n",
       "      <td>0.000000</td>\n",
       "      <td>1.000000</td>\n",
       "    </tr>\n",
       "    <tr>\n",
       "      <th>25%</th>\n",
       "      <td>701.000000</td>\n",
       "      <td>139.000000</td>\n",
       "    </tr>\n",
       "    <tr>\n",
       "      <th>50%</th>\n",
       "      <td>1466.000000</td>\n",
       "      <td>288.000000</td>\n",
       "    </tr>\n",
       "    <tr>\n",
       "      <th>75%</th>\n",
       "      <td>2547.500000</td>\n",
       "      <td>494.500000</td>\n",
       "    </tr>\n",
       "    <tr>\n",
       "      <th>max</th>\n",
       "      <td>25982.000000</td>\n",
       "      <td>4365.000000</td>\n",
       "    </tr>\n",
       "  </tbody>\n",
       "</table>\n",
       "</div>"
      ],
      "text/plain": [
       "        text_length  text_word_length\n",
       "count   1043.000000       1043.000000\n",
       "mean    2015.803452        386.348035\n",
       "std     2150.286960        400.595960\n",
       "min        0.000000          1.000000\n",
       "25%      701.000000        139.000000\n",
       "50%     1466.000000        288.000000\n",
       "75%     2547.500000        494.500000\n",
       "max    25982.000000       4365.000000"
      ]
     },
     "execution_count": 23,
     "metadata": {},
     "output_type": "execute_result"
    }
   ],
   "source": [
    "ghost.describe()"
   ]
  },
  {
   "cell_type": "code",
   "execution_count": 24,
   "id": "1bb89f1b-9ba7-4f96-bbc0-b657b3b93149",
   "metadata": {
    "tags": []
   },
   "outputs": [
    {
     "data": {
      "text/html": [
       "<div>\n",
       "<style scoped>\n",
       "    .dataframe tbody tr th:only-of-type {\n",
       "        vertical-align: middle;\n",
       "    }\n",
       "\n",
       "    .dataframe tbody tr th {\n",
       "        vertical-align: top;\n",
       "    }\n",
       "\n",
       "    .dataframe thead th {\n",
       "        text-align: right;\n",
       "    }\n",
       "</style>\n",
       "<table border=\"1\" class=\"dataframe\">\n",
       "  <thead>\n",
       "    <tr style=\"text-align: right;\">\n",
       "      <th></th>\n",
       "      <th>text_length</th>\n",
       "      <th>text_word_length</th>\n",
       "    </tr>\n",
       "  </thead>\n",
       "  <tbody>\n",
       "    <tr>\n",
       "      <th>count</th>\n",
       "      <td>939.000000</td>\n",
       "      <td>939.000000</td>\n",
       "    </tr>\n",
       "    <tr>\n",
       "      <th>mean</th>\n",
       "      <td>1342.048988</td>\n",
       "      <td>256.669862</td>\n",
       "    </tr>\n",
       "    <tr>\n",
       "      <th>std</th>\n",
       "      <td>1977.503752</td>\n",
       "      <td>369.077187</td>\n",
       "    </tr>\n",
       "    <tr>\n",
       "      <th>min</th>\n",
       "      <td>0.000000</td>\n",
       "      <td>1.000000</td>\n",
       "    </tr>\n",
       "    <tr>\n",
       "      <th>25%</th>\n",
       "      <td>485.000000</td>\n",
       "      <td>94.000000</td>\n",
       "    </tr>\n",
       "    <tr>\n",
       "      <th>50%</th>\n",
       "      <td>859.000000</td>\n",
       "      <td>165.000000</td>\n",
       "    </tr>\n",
       "    <tr>\n",
       "      <th>75%</th>\n",
       "      <td>1521.500000</td>\n",
       "      <td>287.000000</td>\n",
       "    </tr>\n",
       "    <tr>\n",
       "      <th>max</th>\n",
       "      <td>33441.000000</td>\n",
       "      <td>5802.000000</td>\n",
       "    </tr>\n",
       "  </tbody>\n",
       "</table>\n",
       "</div>"
      ],
      "text/plain": [
       "        text_length  text_word_length\n",
       "count    939.000000        939.000000\n",
       "mean    1342.048988        256.669862\n",
       "std     1977.503752        369.077187\n",
       "min        0.000000          1.000000\n",
       "25%      485.000000         94.000000\n",
       "50%      859.000000        165.000000\n",
       "75%     1521.500000        287.000000\n",
       "max    33441.000000       5802.000000"
      ]
     },
     "execution_count": 24,
     "metadata": {},
     "output_type": "execute_result"
    }
   ],
   "source": [
    "funny.describe()"
   ]
  },
  {
   "cell_type": "code",
   "execution_count": 25,
   "id": "c57aca51-52aa-45ec-a5db-a94d356f3cf3",
   "metadata": {
    "tags": []
   },
   "outputs": [
    {
     "data": {
      "text/plain": [
       "(1043, 7)"
      ]
     },
     "execution_count": 25,
     "metadata": {},
     "output_type": "execute_result"
    }
   ],
   "source": [
    "ghost.shape"
   ]
  },
  {
   "cell_type": "code",
   "execution_count": 26,
   "id": "39f8f3d8-e1cb-41a1-8e50-98c5325096a6",
   "metadata": {
    "tags": []
   },
   "outputs": [
    {
     "data": {
      "text/plain": [
       "(939, 7)"
      ]
     },
     "execution_count": 26,
     "metadata": {},
     "output_type": "execute_result"
    }
   ],
   "source": [
    "funny.shape"
   ]
  },
  {
   "cell_type": "code",
   "execution_count": 27,
   "id": "42e9ece4-6b92-4b4c-9e5b-6ed831989dde",
   "metadata": {
    "tags": []
   },
   "outputs": [],
   "source": [
    "both_subs = pd.concat([funny, ghost], axis = 0, ignore_index=True)"
   ]
  },
  {
   "cell_type": "code",
   "execution_count": 28,
   "id": "eed01391-1019-4031-919a-80af95a7e662",
   "metadata": {
    "tags": []
   },
   "outputs": [
    {
     "data": {
      "text/plain": [
       "(1982, 7)"
      ]
     },
     "execution_count": 28,
     "metadata": {},
     "output_type": "execute_result"
    }
   ],
   "source": [
    "both_subs.shape"
   ]
  },
  {
   "cell_type": "code",
   "execution_count": 29,
   "id": "a175f525-d01e-42a0-b025-9e1e49fc42b9",
   "metadata": {
    "tags": []
   },
   "outputs": [],
   "source": [
    "both_subs['subreddit'] = both_subs['subreddit'].map({'funnystories': 0, 'Ghoststories': 1})"
   ]
  },
  {
   "cell_type": "code",
   "execution_count": 30,
   "id": "2af28732-0cd5-4b67-ade2-99d8b066f11b",
   "metadata": {
    "tags": []
   },
   "outputs": [
    {
     "data": {
      "text/plain": [
       "title               0\n",
       "text                0\n",
       "subreddit           2\n",
       "name                0\n",
       "text_length         0\n",
       "text_word_length    0\n",
       "title_text          0\n",
       "dtype: int64"
      ]
     },
     "execution_count": 30,
     "metadata": {},
     "output_type": "execute_result"
    }
   ],
   "source": [
    "both_subs.isnull().sum()"
   ]
  },
  {
   "cell_type": "markdown",
   "id": "6180c8f5-2969-4e94-800b-6641fa5b0f89",
   "metadata": {},
   "source": [
    "- We have two missing subreddits because everytime we pull new data, a single row is generated with the title column names as its values. These rows have no information on them leaving it easy to remove from our dataset. "
   ]
  },
  {
   "cell_type": "code",
   "execution_count": 31,
   "id": "84aa2319-756a-4439-b2e7-4cd24d548b41",
   "metadata": {
    "tags": []
   },
   "outputs": [],
   "source": [
    "both_subs.dropna(axis=0, inplace=True)"
   ]
  },
  {
   "cell_type": "code",
   "execution_count": 32,
   "id": "8c28f785-4ba4-4e15-b27a-715d14841f34",
   "metadata": {
    "tags": []
   },
   "outputs": [
    {
     "data": {
      "text/plain": [
       "title               0\n",
       "text                0\n",
       "subreddit           0\n",
       "name                0\n",
       "text_length         0\n",
       "text_word_length    0\n",
       "title_text          0\n",
       "dtype: int64"
      ]
     },
     "execution_count": 32,
     "metadata": {},
     "output_type": "execute_result"
    }
   ],
   "source": [
    "both_subs.isnull().sum()"
   ]
  },
  {
   "cell_type": "code",
   "execution_count": 33,
   "id": "82b6f924-0e37-47e1-90b1-8de699d574a0",
   "metadata": {
    "tags": []
   },
   "outputs": [
    {
     "data": {
      "text/plain": [
       "(1980, 7)"
      ]
     },
     "execution_count": 33,
     "metadata": {},
     "output_type": "execute_result"
    }
   ],
   "source": [
    "both_subs.shape"
   ]
  },
  {
   "cell_type": "code",
   "execution_count": 34,
   "id": "f6999de1-d098-4739-b154-f100b42e8b25",
   "metadata": {
    "tags": []
   },
   "outputs": [],
   "source": [
    "both_subs.to_csv('../data/both_subreddits.csv', index=False)"
   ]
  },
  {
   "cell_type": "markdown",
   "id": "bc04a858-1a87-47e8-8935-a52ee1bb29f1",
   "metadata": {},
   "source": [
    "## Checking to see if stop_words contain any value.\n",
    "- None of these words are unique or will have any impact on my data. This tells me my base iteration should include removing stop_words. "
   ]
  },
  {
   "cell_type": "code",
   "execution_count": 40,
   "id": "224401da-2361-4b25-907d-ebbd3b702ca8",
   "metadata": {},
   "outputs": [
    {
     "data": {
      "image/png": "[encoded data removed]",
      "text/plain": [
       "<Figure size 640x480 with 1 Axes>"
      ]
     },
     "metadata": {},
     "output_type": "display_data"
    }
   ],
   "source": [
    "X = both_subs['title_text']\n",
    "y = both_subs['subreddit']\n",
    "X_train, X_test, y_train, y_test = train_test_split(X, y, test_size=0.25, random_state=42)\n",
    "tfid = TfidfVectorizer(stop_words=None, ngram_range=(1, 1))\n",
    "tfid.fit(X_train)\n",
    "X_1 = tfid.transform(X_train)\n",
    "X_1_df = pd.DataFrame(X_1.todense(), \n",
    "                      columns=tfid.get_feature_names_out())\n",
    "X_1_df.sum().sort_values(ascending = False).head(20).plot(kind = 'barh')\n",
    "plt.title('Most Frequent Words for Both Subreddits (stop_words = None)')\n",
    "plt.xlabel('Number of Words');\n",
    "plt.savefig('../images/top_w_stop_w_none.png')"
   ]
  }
 ],
 "metadata": {
  "kernelspec": {
   "display_name": "Python 3 (ipykernel)",
   "language": "python",
   "name": "python3"
  },
  "language_info": {
   "codemirror_mode": {
    "name": "ipython",
    "version": 3
   },
   "file_extension": ".py",
   "mimetype": "text/x-python",
   "name": "python",
   "nbconvert_exporter": "python",
   "pygments_lexer": "ipython3",
   "version": "3.11.4"
  }
 },
 "nbformat": 4,
 "nbformat_minor": 5
}
